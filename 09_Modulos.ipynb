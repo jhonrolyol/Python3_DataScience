{
 "cells": [
  {
   "cell_type": "markdown",
   "metadata": {},
   "source": [
    "# 9.- Modulos"
   ]
  },
  {
   "cell_type": "code",
   "execution_count": null,
   "metadata": {},
   "outputs": [],
   "source": [
    "import \n"
   ]
  },
  {
   "cell_type": "markdown",
   "metadata": {},
   "source": [
    "## 9.1.- Módulo OS"
   ]
  },
  {
   "cell_type": "code",
   "execution_count": 1,
   "metadata": {},
   "outputs": [],
   "source": [
    "import os "
   ]
  },
  {
   "cell_type": "code",
   "execution_count": 2,
   "metadata": {},
   "outputs": [
    {
     "data": {
      "text/plain": [
       "'C:\\\\Users\\\\GAMER\\\\Desktop\\\\JR-PYTHON\\\\Practice\\\\PYTHON_DataScience\\\\JupyterNotebook'"
      ]
     },
     "execution_count": 2,
     "metadata": {},
     "output_type": "execute_result"
    }
   ],
   "source": [
    "# Muestra la ruta de jupyter notebook\n",
    "os.getcwd()\n"
   ]
  },
  {
   "cell_type": "code",
   "execution_count": 3,
   "metadata": {},
   "outputs": [
    {
     "data": {
      "text/plain": [
       "['.ipynb_checkpoints',\n",
       " '1_HolaMundo.ipynb',\n",
       " '2_TiposDeDatos.ipynb',\n",
       " '3_Variables.ipynb',\n",
       " '4_Listas.ipynb',\n",
       " '5_Diccionarios.ipynb',\n",
       " '6_Condicional if.ipynb',\n",
       " '7_Bucle for.ipynb',\n",
       " '8_Funciones.ipynb',\n",
       " '9_Modulos.ipynb']"
      ]
     },
     "execution_count": 3,
     "metadata": {},
     "output_type": "execute_result"
    }
   ],
   "source": [
    "# Muestra todos archivos de la carpeta donde se encuentra jupyter notebook\n",
    "os.listdir()   \n",
    "    "
   ]
  },
  {
   "cell_type": "code",
   "execution_count": 4,
   "metadata": {},
   "outputs": [],
   "source": [
    "# Creamos una nueva carpeta en la misma ruta donde está juyter notebook\n",
    "os.makedirs('Nueva carpeta') \n"
   ]
  },
  {
   "cell_type": "code",
   "execution_count": 5,
   "metadata": {},
   "outputs": [
    {
     "data": {
      "text/plain": [
       "['.ipynb_checkpoints',\n",
       " '1_HolaMundo.ipynb',\n",
       " '2_TiposDeDatos.ipynb',\n",
       " '3_Variables.ipynb',\n",
       " '4_Listas.ipynb',\n",
       " '5_Diccionarios.ipynb',\n",
       " '6_Condicional if.ipynb',\n",
       " '7_Bucle for.ipynb',\n",
       " '8_Funciones.ipynb',\n",
       " '9_Modulos.ipynb',\n",
       " 'Nueva carpeta']"
      ]
     },
     "execution_count": 5,
     "metadata": {},
     "output_type": "execute_result"
    }
   ],
   "source": [
    "os.listdir()  "
   ]
  }
 ],
 "metadata": {
  "kernelspec": {
   "display_name": "Python 3",
   "language": "python",
   "name": "python3"
  },
  "language_info": {
   "codemirror_mode": {
    "name": "ipython",
    "version": 3
   },
   "file_extension": ".py",
   "mimetype": "text/x-python",
   "name": "python",
   "nbconvert_exporter": "python",
   "pygments_lexer": "ipython3",
   "version": "3.7.7"
  }
 },
 "nbformat": 4,
 "nbformat_minor": 4
}
