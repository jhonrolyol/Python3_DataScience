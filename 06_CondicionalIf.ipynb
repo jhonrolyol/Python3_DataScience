{
 "cells": [
  {
   "cell_type": "markdown",
   "metadata": {},
   "source": [
    "# 6 Condicional if"
   ]
  },
  {
   "cell_type": "code",
   "execution_count": null,
   "metadata": {},
   "outputs": [],
   "source": [
    "if <condicional>\n",
    "     <code>\n",
    "elif <condicional>\n",
    "       <code>\n",
    "    ...\n",
    "else\n",
    "       <code>\n"
   ]
  },
  {
   "cell_type": "code",
   "execution_count": 2,
   "metadata": {},
   "outputs": [
    {
     "name": "stdout",
     "output_type": "stream",
     "text": [
      "Eres mayor de edad\n"
     ]
    }
   ],
   "source": [
    "# Ejemplo 1\n",
    "Edad = 18\n",
    "if Edad>= 18 :\n",
    "    print('Eres mayor de edad')\n",
    "else:\n",
    "    print('Eres un niño')\n",
    "        "
   ]
  },
  {
   "cell_type": "code",
   "execution_count": 5,
   "metadata": {},
   "outputs": [
    {
     "name": "stdout",
     "output_type": "stream",
     "text": [
      "Eres mayor de edad\n"
     ]
    }
   ],
   "source": [
    "# Ejemplo 2\n",
    "Edad = 18\n",
    "if Edad>= 18 :\n",
    "    print('Eres mayor de edad')\n",
    "elif Edad>=13:\n",
    "    print('Eres un adolescente')   \n",
    "else:\n",
    "    print('Eres un niño')\n",
    "        "
   ]
  },
  {
   "cell_type": "code",
   "execution_count": 9,
   "metadata": {},
   "outputs": [
    {
     "name": "stdout",
     "output_type": "stream",
     "text": [
      "El país indicado está en la lista\n"
     ]
    }
   ],
   "source": [
    "# Conbinando con las listas\n",
    "paises = ['USA', 'India','China','Brazil']\n",
    "if '' in paises:\n",
    "    print('El país indicado está en la lista')\n",
    "else:\n",
    "    print('El país indicado no está en la lista')\n",
    "        \n",
    "\n"
   ]
  },
  {
   "cell_type": "code",
   "execution_count": null,
   "metadata": {},
   "outputs": [],
   "source": []
  }
 ],
 "metadata": {
  "kernelspec": {
   "display_name": "Python 3",
   "language": "python",
   "name": "python3"
  },
  "language_info": {
   "codemirror_mode": {
    "name": "ipython",
    "version": 3
   },
   "file_extension": ".py",
   "mimetype": "text/x-python",
   "name": "python",
   "nbconvert_exporter": "python",
   "pygments_lexer": "ipython3",
   "version": "3.7.7"
  }
 },
 "nbformat": 4,
 "nbformat_minor": 4
}
