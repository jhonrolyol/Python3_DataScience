{
 "cells": [
  {
   "cell_type": "markdown",
   "metadata": {},
   "source": [
    "# 10 .- MÓDULO 2: Introducción a Pandas\n",
    "\n",
    "## 10.1.- ¿Qué es Pandas?\n",
    "Es una de las mejores herramientas para hacer análisis de datos en Python, porque permite hacer limpieza, transformaciones, visualizaciones de los datos, etc.\n",
    "\n",
    "## 10.2.- Python Pandas Versus Excel\n",
    "\n",
    "1.- Tamaño. \n",
    "\n",
    "    Python maneja una mayor cantidad de filas que excel.\n",
    "    \n",
    "2.- Transformación de data compleja.\n",
    "\n",
    "    Python maneja operaciones más complejas.\n",
    "\n",
    "3.- Automatización.\n",
    "\n",
    "    Python fue creado para automatizar tareas, porque tiene muchas librerias.\n",
    "\n",
    "4.- Compatibilidad en diferentes plataformas.\n",
    "\n",
    "    Excel tiene problemas con los códigos según los plataformas, en caso de python no. \n",
    " \n",
    "## 10.3.- Arrays\n",
    "Es una lista\n",
    "\n",
    "1.- Series\n",
    "\n",
    "    Son de una dimensión.\n",
    "\n",
    "2.- Data Frames\n",
    "\n",
    "    Sonde dos dimensiones.\n",
    "    \n",
    "    \n",
    "## 10.4.- Pandas Terminología\n",
    "\n",
    "### 10.4.1.- Exel\n",
    "\n",
    "Worksheet, Column, Row heading, Row, Empthy Cell.\n",
    "   \n",
    "### 10.4.2.- Pandas\n",
    "\n",
    "Data Frame, Series, Index, Row, NaN.\n",
    "\n"
   ]
  }
 ],
 "metadata": {
  "kernelspec": {
   "display_name": "Python 3",
   "language": "python",
   "name": "python3"
  },
  "language_info": {
   "codemirror_mode": {
    "name": "ipython",
    "version": 3
   },
   "file_extension": ".py",
   "mimetype": "text/x-python",
   "name": "python",
   "nbconvert_exporter": "python",
   "pygments_lexer": "ipython3",
   "version": "3.7.7"
  }
 },
 "nbformat": 4,
 "nbformat_minor": 4
}
